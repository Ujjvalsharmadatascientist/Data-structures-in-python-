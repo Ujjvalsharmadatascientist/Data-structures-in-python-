{
 "cells": [
  {
   "cell_type": "markdown",
   "id": "e213fbd3-af05-4161-8466-9d11abf85ca3",
   "metadata": {},
   "source": [
    "Q1. How do you comment code in Python? What are the different types of comments?"
   ]
  },
  {
   "cell_type": "code",
   "execution_count": 9,
   "id": "62009be7-b811-4278-aaf8-d50ed7b5f9b5",
   "metadata": {},
   "outputs": [
    {
     "name": "stdout",
     "output_type": "stream",
     "text": [
      "gullepanadat\n",
      "ujjval pandat\n"
     ]
    }
   ],
   "source": [
    "name = \"gullepanadat\"\n",
    "print(name)\n",
    "print(\"ujjval pandat\")\n"
   ]
  },
  {
   "cell_type": "markdown",
   "id": "2a63cc4a-8789-4ddb-b54c-77db336817ee",
   "metadata": {},
   "source": [
    "Q2. What are variables in Python? How do you declare and assign values to variables?"
   ]
  },
  {
   "cell_type": "code",
   "execution_count": 14,
   "id": "597266ee-f98d-4099-aac6-f150e9b96a3c",
   "metadata": {},
   "outputs": [
    {
     "name": "stdout",
     "output_type": "stream",
     "text": [
      "5\n",
      "ujjval sharma\n"
     ]
    }
   ],
   "source": [
    "x=5\n",
    "y=\"ujjval sharma\"\n",
    "print(x)\n",
    "print(y)"
   ]
  },
  {
   "cell_type": "code",
   "execution_count": 16,
   "id": "4ba52156-cea1-4fa2-bd10-8701a234a345",
   "metadata": {},
   "outputs": [
    {
     "name": "stdout",
     "output_type": "stream",
     "text": [
      "pineapple\n",
      "turnip\n",
      "cheery\n"
     ]
    }
   ],
   "source": [
    "x,y,z = \"pineapple\", \"turnip\",\"cheery\"\n",
    "print(x)\n",
    "print(y)\n",
    "print(z)"
   ]
  },
  {
   "cell_type": "markdown",
   "id": "409e3d90-72dc-4b0a-b854-58670cdb4750",
   "metadata": {},
   "source": [
    "Q3. How do you convert one data type to another in Python? \n"
   ]
  },
  {
   "cell_type": "code",
   "execution_count": 17,
   "id": "58cdaa5b-c150-4e6d-8e2e-67b25931b6de",
   "metadata": {},
   "outputs": [
    {
     "name": "stdout",
     "output_type": "stream",
     "text": [
      "<class 'int'>\n"
     ]
    }
   ],
   "source": [
    "x=5\n",
    "print(type(x))"
   ]
  },
  {
   "cell_type": "raw",
   "id": "215af471-155e-4947-ac75-446af90521c2",
   "metadata": {},
   "source": [
    "Q5. Given a list my_list = [1, 2, 3, 4, 5], write the code to slice the list and obtain the sub-list [2, 3]. Q6. What is a complex number in mathematics, and how is it represented in Python? Q7. What is the correct way to declare a variable named age and assign the value 25 to it? \n"
   ]
  },
  {
   "cell_type": "code",
   "execution_count": 28,
   "id": "45f5fd6e-3ab3-49e8-ae32-fcf41e3f3cfd",
   "metadata": {},
   "outputs": [],
   "source": [
    "ANS-5 my_list = [1,2,3,4,5]\n",
    "sub_list=[2,3]  "
   ]
  },
  {
   "cell_type": "code",
   "execution_count": 37,
   "id": "1a1b8c9e-21ac-4024-81e5-dedf5e23c852",
   "metadata": {},
   "outputs": [
    {
     "name": "stdout",
     "output_type": "stream",
     "text": [
      "[1, 2, 3, 4, 5]\n"
     ]
    }
   ],
   "source": [
    "print(my_list[:]) "
   ]
  },
  {
   "cell_type": "code",
   "execution_count": 40,
   "id": "2d592d96-31b0-4dae-8b1e-fcdbc63a847d",
   "metadata": {},
   "outputs": [
    {
     "name": "stdout",
     "output_type": "stream",
     "text": [
      "(3+5j)\n"
     ]
    }
   ],
   "source": [
    "ANS-6 x=complex('3+5j')\n",
    "print(x)"
   ]
  },
  {
   "cell_type": "code",
   "execution_count": 43,
   "id": "1fbf717c-f39e-4e50-b871-a878eb03a32a",
   "metadata": {},
   "outputs": [
    {
     "name": "stdout",
     "output_type": "stream",
     "text": [
      "25\n"
     ]
    }
   ],
   "source": [
    "# Replace__with 25\n",
    "age=25 \n",
    "print(age)\n"
   ]
  },
  {
   "cell_type": "raw",
   "id": "3dd9cd8e-516c-458a-8f42-24d41a54ab2d",
   "metadata": {},
   "source": [
    "Q8. Declare a variable named price and assign the value 9.99 to it. What data type does this variable  belong to? \n"
   ]
  },
  {
   "cell_type": "code",
   "execution_count": 47,
   "id": "ef34d399-4b24-4d9f-aa79-6f2168fd5e37",
   "metadata": {},
   "outputs": [
    {
     "name": "stdout",
     "output_type": "stream",
     "text": [
      "tshirt\n",
      "777\n"
     ]
    }
   ],
   "source": [
    "named='tshirt'\n",
    "price=777\n",
    "print(named)\n",
    "print(price)"
   ]
  },
  {
   "cell_type": "markdown",
   "id": "6005d3d5-d351-42c3-b292-4cd35a293cca",
   "metadata": {},
   "source": [
    "Q9. Create a variable named name and assign your full name to it as a string. How would you print the  value of this variable? "
   ]
  },
  {
   "cell_type": "code",
   "execution_count": 50,
   "id": "3931d227-85a3-4e0e-a527-084cbe349bec",
   "metadata": {},
   "outputs": [
    {
     "data": {
      "text/plain": [
       "str"
      ]
     },
     "execution_count": 50,
     "metadata": {},
     "output_type": "execute_result"
    }
   ],
   "source": [
    "x=\"ujjval sharma\"\n",
    "type(x)"
   ]
  },
  {
   "cell_type": "raw",
   "id": "02e1ccfd-a32e-4b87-95dc-670efe82c9fe",
   "metadata": {},
   "source": [
    "Q10. Given the string \"Hello, World!\", extract the substring \"World\". "
   ]
  },
  {
   "cell_type": "code",
   "execution_count": 49,
   "id": "6f85309f-efd9-4da9-a882-b49ce00b47cc",
   "metadata": {},
   "outputs": [
    {
     "data": {
      "text/plain": [
       "str"
      ]
     },
     "execution_count": 49,
     "metadata": {},
     "output_type": "execute_result"
    }
   ],
   "source": [
    "a=\"hello,world\"\n",
    "b=\"world\"\n",
    "type(a)\n",
    "type(b)"
   ]
  },
  {
   "cell_type": "raw",
   "id": "63189aea-f5ca-4b94-90c3-58aaf3088d51",
   "metadata": {},
   "source": [
    "Q11. Create a variable named \"is_student\" and assign it a boolean value indicating whether you are  currently a student or no"
   ]
  },
  {
   "cell_type": "code",
   "execution_count": 53,
   "id": "5eae5dd5-4d47-42b8-bd76-9c7c23ad91cb",
   "metadata": {},
   "outputs": [
    {
     "name": "stdout",
     "output_type": "stream",
     "text": [
      "b is student a\n"
     ]
    }
   ],
   "source": [
    "a=\"is_student\"\n",
    "b=\"not_student\"\n",
    "if b>a:\n",
    "    print(\"b is student a\")\n",
    "else:\n",
    "    print(\"b is not student a\")"
   ]
  },
  {
   "cell_type": "code",
   "execution_count": null,
   "id": "d65a5435-e557-449a-8f44-5a47039c8460",
   "metadata": {},
   "outputs": [],
   "source": []
  }
 ],
 "metadata": {
  "kernelspec": {
   "display_name": "Python 3 (ipykernel)",
   "language": "python",
   "name": "python3"
  },
  "language_info": {
   "codemirror_mode": {
    "name": "ipython",
    "version": 3
   },
   "file_extension": ".py",
   "mimetype": "text/x-python",
   "name": "python",
   "nbconvert_exporter": "python",
   "pygments_lexer": "ipython3",
   "version": "3.10.8"
  }
 },
 "nbformat": 4,
 "nbformat_minor": 5
}
